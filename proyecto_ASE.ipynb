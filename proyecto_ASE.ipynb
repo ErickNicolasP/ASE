{
  "nbformat": 4,
  "nbformat_minor": 0,
  "metadata": {
    "colab": {
      "provenance": [],
      "authorship_tag": "ABX9TyPr4tU/ZthTfJ4T3/9vSssi",
      "include_colab_link": true
    },
    "kernelspec": {
      "name": "python3",
      "display_name": "Python 3"
    },
    "language_info": {
      "name": "python"
    }
  },
  "cells": [
    {
      "cell_type": "markdown",
      "metadata": {
        "id": "view-in-github",
        "colab_type": "text"
      },
      "source": [
        "<a href=\"https://colab.research.google.com/github/ErickNicolasP/ASE/blob/main/proyecto_ASE.ipynb\" target=\"_parent\"><img src=\"https://colab.research.google.com/assets/colab-badge.svg\" alt=\"Open In Colab\"/></a>"
      ]
    },
    {
      "cell_type": "markdown",
      "source": [
        "# CARGAMOS TODOS LOS DATOS NECESARIOS, BIBLIOTECAS Y ACOMODAMOS LA INFORMACIÓN PARA SU PROXIMA MANIPULACIÓN"
      ],
      "metadata": {
        "id": "EEcmzLn-ToYc"
      }
    },
    {
      "cell_type": "code",
      "execution_count": 1,
      "metadata": {
        "colab": {
          "base_uri": "https://localhost:8080/"
        },
        "id": "cEHR__7pn8-9",
        "outputId": "8628d8ed-eae9-46a5-8bb6-6e171e7ebb13"
      },
      "outputs": [
        {
          "output_type": "stream",
          "name": "stdout",
          "text": [
            "Mounted at /content/gdrive\n"
          ]
        }
      ],
      "source": [
        "#Cargamos el archivo desde google drive\n",
        "from google.colab import drive\n",
        "from google.colab import files\n",
        "drive.mount(\"/content/gdrive\")"
      ]
    },
    {
      "cell_type": "code",
      "source": [
        "#importamos las librerías\n",
        "import pandas as pd\n",
        "import seaborn as sns\n",
        "import matplotlib.pyplot as plt\n",
        "import numpy as np\n",
        "from scipy.interpolate import interp1d\n",
        "import io as io"
      ],
      "metadata": {
        "id": "daL_4qRioBoJ"
      },
      "execution_count": 2,
      "outputs": []
    },
    {
      "cell_type": "code",
      "source": [
        "#cargamos los data frame en las variables\n",
        "#2018\n",
        "dev_2018 = pd.read_csv('/content/gdrive/MyDrive/Ciencia de Datos/ASE/2018/DEV 2018.csv')\n",
        "#2019\n",
        "dev_2019 = pd.read_csv('/content/gdrive/MyDrive/Ciencia de Datos/ASE/2019/DEV 2019.csv')\n",
        "#2020\n",
        "dev_2020_enero = pd.read_csv('/content/gdrive/MyDrive/Ciencia de Datos/ASE/2020/DEV 2020_enero-marzo.csv')\n",
        "dev_2020_julio = pd.read_csv('/content/gdrive/MyDrive/Ciencia de Datos/ASE/2020/DEV 2020_julio-septiembre.csv')\n",
        "dev_2020_octubre = pd.read_csv('/content/gdrive/MyDrive/Ciencia de Datos/ASE/2020/DEV 2020_octubre-diciembre.csv')\n",
        "#2022\n",
        "dev_2022_julio = pd.read_csv('/content/gdrive/MyDrive/Ciencia de Datos/ASE/2022/DEV Julio-Septiembre 2022.csv')\n",
        "dev_2022_octubre = pd.read_csv('/content/gdrive/MyDrive/Ciencia de Datos/ASE/2022/DEV Octubre-Diciembre 2022.csv')\n",
        "\n",
        "#poblacion 2020, esta se usará de referencia para sacar la tasa_2018, ya que el censo se hace cada 10 años, el más acertado es el de 2020\n",
        "censo = pd.read_csv('/content/gdrive/MyDrive/Ciencia de Datos/ASE/censo 2020/censo 2020.csv')"
      ],
      "metadata": {
        "id": "5vDtJZZaoJKe",
        "colab": {
          "base_uri": "https://localhost:8080/"
        },
        "outputId": "c28be8ec-8050-4a93-d18f-e4685cf819c2"
      },
      "execution_count": 3,
      "outputs": [
        {
          "output_type": "stream",
          "name": "stderr",
          "text": [
            "<ipython-input-3-fde523059dcc>:3: DtypeWarning: Columns (496,497) have mixed types. Specify dtype option on import or set low_memory=False.\n",
            "  dev_2018 = pd.read_csv('/content/gdrive/MyDrive/Ciencia de Datos/ASE/2018/DEV 2018.csv')\n",
            "<ipython-input-3-fde523059dcc>:5: DtypeWarning: Columns (494,496) have mixed types. Specify dtype option on import or set low_memory=False.\n",
            "  dev_2019 = pd.read_csv('/content/gdrive/MyDrive/Ciencia de Datos/ASE/2019/DEV 2019.csv')\n"
          ]
        }
      ]
    },
    {
      "cell_type": "code",
      "source": [
        "#Los años 2020 y 2022, no tienen los data frame concatenados, por lo que eso se hará acontinuación\n",
        "#2020\n",
        "dev_2020 = pd.concat([dev_2020_enero,dev_2020_julio,dev_2020_octubre], axis=0)\n",
        "#2022\n",
        "dev_2022 = pd.concat([dev_2022_julio,dev_2022_octubre],axis=0)\n",
        "\n",
        "#variables de los data frames\n",
        "#----dev_2018\n",
        "#----dev_2019\n",
        "#----dev_2020\n",
        "#----dev_2022"
      ],
      "metadata": {
        "id": "7dPYTXc03ANq"
      },
      "execution_count": 4,
      "outputs": []
    },
    {
      "cell_type": "markdown",
      "source": [
        "\n",
        "\n",
        "#EDAD Y EL SEXO CON SU TASA DE MIGRACIÓN. 2018\n"
      ],
      "metadata": {
        "id": "Ziy4SsA1mShF"
      }
    },
    {
      "cell_type": "code",
      "source": [
        "hombres_df_2018 = dev_2018.loc[(dev_2018[\"p1\"] == 1) & (dev_2018[\"p2\"] < 97), [\"p2\", \"p1\"]].value_counts().reset_index()\n",
        "hombres_df_2018 = hombres_df_2018.loc[:, [\"p2\", 0]]\n",
        "hombres_df_2018.columns = [\"edad\", \"contar\"]\n",
        "\n",
        "mujeres_df_2018 = dev_2018.loc[(dev_2018[\"p1\"] == 2) & (dev_2018[\"p2\"] < 97), [\"p2\", \"p1\"]].value_counts().reset_index()\n",
        "mujeres_df_2018 = mujeres_df_2018.loc[:, [\"p2\", 0]]\n",
        "mujeres_df_2018.columns = [\"edad\", \"contar\"]"
      ],
      "metadata": {
        "id": "6-Gzzg9qL4vu"
      },
      "execution_count": 30,
      "outputs": []
    },
    {
      "cell_type": "code",
      "source": [
        "if hombres_df_2018[\"edad\"].max() > mujeres_df_2018[\"edad\"].max() :\n",
        "    max = hombres_df_2018[\"edad\"].max()\n",
        "else:\n",
        "    max = mujeres_df_2018[\"edad\"].max()"
      ],
      "metadata": {
        "id": "5vOmn4W6MVPd"
      },
      "execution_count": 31,
      "outputs": []
    },
    {
      "cell_type": "code",
      "source": [
        "rango_edades = set(range(0, max+1))\n",
        "edades_presentes = set(hombres_df_2018['edad'])\n",
        "edades_faltantes = rango_edades - edades_presentes\n",
        "\n",
        "for edad in edades_faltantes:\n",
        "    hombres_df_2018.loc[len(hombres_df_2018)] = [edad, 0]\n",
        "hombres_df_2018 = hombres_df_2018.sort_values(\"edad\").reset_index(drop=True)\n",
        "hombres_df_2018"
      ],
      "metadata": {
        "id": "rpjq8vldYsgo"
      },
      "execution_count": null,
      "outputs": []
    },
    {
      "cell_type": "code",
      "source": [
        "rango_edades = set(range(0, max+1))\n",
        "edades_presentes = set(mujeres_df_2018['edad'])\n",
        "edades_faltantes = rango_edades - edades_presentes\n",
        "\n",
        "for edad in edades_faltantes:\n",
        "    mujeres_df_2018.loc[len(mujeres_df_2018)] = [edad, 0]\n",
        "mujeres_df_2018 = mujeres_df_2018.sort_values(\"edad\").reset_index(drop=True)\n",
        "mujeres_df_2018"
      ],
      "metadata": {
        "id": "1fC_TfHit4Lu"
      },
      "execution_count": null,
      "outputs": []
    },
    {
      "cell_type": "code",
      "source": [
        "tasa_2018 = pd.DataFrame(columns=['hombres', 'mujeres'])\n",
        "censo = censo.replace(',', '', regex=True).astype('int64')\n",
        "censo = censo.iloc[0:72]"
      ],
      "metadata": {
        "id": "hR9NfFYBssIX"
      },
      "execution_count": 34,
      "outputs": []
    },
    {
      "cell_type": "code",
      "source": [
        "tasa_2018[\"hombres\"] = (hombres_df_2018[\"contar\"]/censo[\"Hombres\"])*1000\n",
        "tasa_2018[\"mujeres\"] = (mujeres_df_2018[\"contar\"]/censo[\"Mujeres\"])*1000\n",
        "tasa_2018"
      ],
      "metadata": {
        "id": "i9-LsrDtCHvD"
      },
      "execution_count": null,
      "outputs": []
    },
    {
      "cell_type": "markdown",
      "source": [
        "# EDAD Y SEXO CON SU TASA DE MIGRACIÓN. 2019"
      ],
      "metadata": {
        "id": "NKl2IsqP-w3t"
      }
    },
    {
      "cell_type": "code",
      "source": [
        "hombres_df_2018 = dev_2018.loc[(dev_2018[\"p1\"] == 1) & (dev_2018[\"p2\"] < 97), [\"p2\", \"p1\"]].value_counts().reset_index()\n",
        "hombres_df_2018 = hombres_df_2018.loc[:, [\"p2\", 0]]\n",
        "hombres_df_2018.columns = [\"edad\", \"contar\"]\n",
        "\n",
        "mujeres_df_2018 = dev_2018.loc[(dev_2018[\"p1\"] == 2) & (dev_2018[\"p2\"] < 97), [\"p2\", \"p1\"]].value_counts().reset_index()\n",
        "mujeres_df_2018 = mujeres_df_2018.loc[:, [\"p2\", 0]]\n",
        "mujeres_df_2018.columns = [\"edad\", \"contar\"]"
      ],
      "metadata": {
        "id": "FGVlZ5moTSGb"
      },
      "execution_count": null,
      "outputs": []
    },
    {
      "cell_type": "code",
      "source": [
        "if hombres_df_2018[\"edad\"].max() > mujeres_df_2018[\"edad\"].max() :\n",
        "    max = hombres_df_2018[\"edad\"].max()\n",
        "else:\n",
        "    max = mujeres_df_2018[\"edad\"].max()"
      ],
      "metadata": {
        "id": "pbu_ee8eTSGd"
      },
      "execution_count": null,
      "outputs": []
    },
    {
      "cell_type": "code",
      "source": [
        "rango_edades = set(range(0, max+1))\n",
        "edades_presentes = set(hombres_df_2018['edad'])\n",
        "edades_faltantes = rango_edades - edades_presentes\n",
        "\n",
        "for edad in edades_faltantes:\n",
        "    hombres_df_2018.loc[len(hombres_df_2018)] = [edad, 0]\n",
        "hombres_df_2018 = hombres_df_2018.sort_values(\"edad\").reset_index(drop=True)\n",
        "hombres_df_2018"
      ],
      "metadata": {
        "id": "euoZ1KZDTSGe"
      },
      "execution_count": null,
      "outputs": []
    },
    {
      "cell_type": "code",
      "source": [
        "rango_edades = set(range(0, max+1))\n",
        "edades_presentes = set(mujeres_df_2018['edad'])\n",
        "edades_faltantes = rango_edades - edades_presentes\n",
        "\n",
        "for edad in edades_faltantes:\n",
        "    mujeres_df_2018.loc[len(mujeres_df_2018)] = [edad, 0]\n",
        "mujeres_df_2018 = mujeres_df_2018.sort_values(\"edad\").reset_index(drop=True)\n",
        "mujeres_df_2018"
      ],
      "metadata": {
        "id": "fqcIEZXsTSGf"
      },
      "execution_count": null,
      "outputs": []
    },
    {
      "cell_type": "code",
      "source": [
        "tasa_2018 = pd.DataFrame(columns=['hombres', 'mujeres'])\n",
        "censo = censo.replace(',', '', regex=True).astype('int64')\n",
        "censo = censo.iloc[0:72]"
      ],
      "metadata": {
        "id": "A2koY1JvTSGf"
      },
      "execution_count": null,
      "outputs": []
    },
    {
      "cell_type": "code",
      "source": [
        "tasa_2018[\"hombres\"] = (hombres_df_2018[\"contar\"]/censo[\"Hombres\"])*1000\n",
        "tasa_2018[\"mujeres\"] = (mujeres_df_2018[\"contar\"]/censo[\"Mujeres\"])*1000\n",
        "tasa_2018"
      ],
      "metadata": {
        "id": "q7ta596eTSGg"
      },
      "execution_count": null,
      "outputs": []
    },
    {
      "cell_type": "markdown",
      "source": [
        "#EDAD Y SEXO CON SU TASA DE MIGRACIÓN. 2020"
      ],
      "metadata": {
        "id": "eOOMp4oNy_19"
      }
    },
    {
      "cell_type": "code",
      "source": [
        "hombres_df_2018 = dev_2018.loc[(dev_2018[\"p1\"] == 1) & (dev_2018[\"p2\"] < 97), [\"p2\", \"p1\"]].value_counts().reset_index()\n",
        "hombres_df_2018 = hombres_df_2018.loc[:, [\"p2\", 0]]\n",
        "hombres_df_2018.columns = [\"edad\", \"contar\"]\n",
        "\n",
        "mujeres_df_2018 = dev_2018.loc[(dev_2018[\"p1\"] == 2) & (dev_2018[\"p2\"] < 97), [\"p2\", \"p1\"]].value_counts().reset_index()\n",
        "mujeres_df_2018 = mujeres_df_2018.loc[:, [\"p2\", 0]]\n",
        "mujeres_df_2018.columns = [\"edad\", \"contar\"]"
      ],
      "metadata": {
        "id": "XoPHoFqjTU8s"
      },
      "execution_count": null,
      "outputs": []
    },
    {
      "cell_type": "code",
      "source": [
        "if hombres_df_2018[\"edad\"].max() > mujeres_df_2018[\"edad\"].max() :\n",
        "    max = hombres_df_2018[\"edad\"].max()\n",
        "else:\n",
        "    max = mujeres_df_2018[\"edad\"].max()"
      ],
      "metadata": {
        "id": "-f_UIpWTTU8u"
      },
      "execution_count": null,
      "outputs": []
    },
    {
      "cell_type": "code",
      "source": [
        "rango_edades = set(range(0, max+1))\n",
        "edades_presentes = set(hombres_df_2018['edad'])\n",
        "edades_faltantes = rango_edades - edades_presentes\n",
        "\n",
        "for edad in edades_faltantes:\n",
        "    hombres_df_2018.loc[len(hombres_df_2018)] = [edad, 0]\n",
        "hombres_df_2018 = hombres_df_2018.sort_values(\"edad\").reset_index(drop=True)\n",
        "hombres_df_2018"
      ],
      "metadata": {
        "id": "Eert4FZwTU8u"
      },
      "execution_count": null,
      "outputs": []
    },
    {
      "cell_type": "code",
      "source": [
        "rango_edades = set(range(0, max+1))\n",
        "edades_presentes = set(mujeres_df_2018['edad'])\n",
        "edades_faltantes = rango_edades - edades_presentes\n",
        "\n",
        "for edad in edades_faltantes:\n",
        "    mujeres_df_2018.loc[len(mujeres_df_2018)] = [edad, 0]\n",
        "mujeres_df_2018 = mujeres_df_2018.sort_values(\"edad\").reset_index(drop=True)\n",
        "mujeres_df_2018"
      ],
      "metadata": {
        "id": "uP4QtpMZTU8v"
      },
      "execution_count": null,
      "outputs": []
    },
    {
      "cell_type": "code",
      "source": [
        "tasa_2018 = pd.DataFrame(columns=['hombres', 'mujeres'])\n",
        "censo = censo.replace(',', '', regex=True).astype('int64')\n",
        "censo = censo.iloc[0:72]"
      ],
      "metadata": {
        "id": "aq0LBENoTU8v"
      },
      "execution_count": null,
      "outputs": []
    },
    {
      "cell_type": "code",
      "source": [
        "tasa_2018[\"hombres\"] = (hombres_df_2018[\"contar\"]/censo[\"Hombres\"])*1000\n",
        "tasa_2018[\"mujeres\"] = (mujeres_df_2018[\"contar\"]/censo[\"Mujeres\"])*1000\n",
        "tasa_2018"
      ],
      "metadata": {
        "id": "xx7u0Z3DTU8w"
      },
      "execution_count": null,
      "outputs": []
    },
    {
      "cell_type": "markdown",
      "source": [
        "#EDAD Y SEXO CON SU TASA DE MIGRACIÓN 2022\n",
        "\n"
      ],
      "metadata": {
        "id": "WY3NYgodzd-U"
      }
    },
    {
      "cell_type": "code",
      "source": [
        "hombres_df_2018 = dev_2018.loc[(dev_2018[\"p1\"] == 1) & (dev_2018[\"p2\"] < 97), [\"p2\", \"p1\"]].value_counts().reset_index()\n",
        "hombres_df_2018 = hombres_df_2018.loc[:, [\"p2\", 0]]\n",
        "hombres_df_2018.columns = [\"edad\", \"contar\"]\n",
        "\n",
        "mujeres_df_2018 = dev_2018.loc[(dev_2018[\"p1\"] == 2) & (dev_2018[\"p2\"] < 97), [\"p2\", \"p1\"]].value_counts().reset_index()\n",
        "mujeres_df_2018 = mujeres_df_2018.loc[:, [\"p2\", 0]]\n",
        "mujeres_df_2018.columns = [\"edad\", \"contar\"]"
      ],
      "metadata": {
        "id": "iG_mOHxBTWst"
      },
      "execution_count": null,
      "outputs": []
    },
    {
      "cell_type": "code",
      "source": [
        "if hombres_df_2018[\"edad\"].max() > mujeres_df_2018[\"edad\"].max() :\n",
        "    max = hombres_df_2018[\"edad\"].max()\n",
        "else:\n",
        "    max = mujeres_df_2018[\"edad\"].max()"
      ],
      "metadata": {
        "id": "U4Hyo0amTWsu"
      },
      "execution_count": null,
      "outputs": []
    },
    {
      "cell_type": "code",
      "source": [
        "rango_edades = set(range(0, max+1))\n",
        "edades_presentes = set(hombres_df_2018['edad'])\n",
        "edades_faltantes = rango_edades - edades_presentes\n",
        "\n",
        "for edad in edades_faltantes:\n",
        "    hombres_df_2018.loc[len(hombres_df_2018)] = [edad, 0]\n",
        "hombres_df_2018 = hombres_df_2018.sort_values(\"edad\").reset_index(drop=True)\n",
        "hombres_df_2018"
      ],
      "metadata": {
        "id": "wvA3llZlTWsv"
      },
      "execution_count": null,
      "outputs": []
    },
    {
      "cell_type": "code",
      "source": [
        "rango_edades = set(range(0, max+1))\n",
        "edades_presentes = set(mujeres_df_2018['edad'])\n",
        "edades_faltantes = rango_edades - edades_presentes\n",
        "\n",
        "for edad in edades_faltantes:\n",
        "    mujeres_df_2018.loc[len(mujeres_df_2018)] = [edad, 0]\n",
        "mujeres_df_2018 = mujeres_df_2018.sort_values(\"edad\").reset_index(drop=True)\n",
        "mujeres_df_2018"
      ],
      "metadata": {
        "id": "Ft9GzbucTWsw"
      },
      "execution_count": null,
      "outputs": []
    },
    {
      "cell_type": "code",
      "source": [
        "tasa_2018 = pd.DataFrame(columns=['hombres', 'mujeres'])\n",
        "censo = censo.replace(',', '', regex=True).astype('int64')\n",
        "censo = censo.iloc[0:72]"
      ],
      "metadata": {
        "id": "iHmpTWRLTWsw"
      },
      "execution_count": null,
      "outputs": []
    },
    {
      "cell_type": "code",
      "source": [
        "tasa_2018[\"hombres\"] = (hombres_df_2018[\"contar\"]/censo[\"Hombres\"])*1000\n",
        "tasa_2018[\"mujeres\"] = (mujeres_df_2018[\"contar\"]/censo[\"Mujeres\"])*1000\n",
        "tasa_2018"
      ],
      "metadata": {
        "id": "BJJfK1hQTWsx"
      },
      "execution_count": null,
      "outputs": []
    }
  ]
}